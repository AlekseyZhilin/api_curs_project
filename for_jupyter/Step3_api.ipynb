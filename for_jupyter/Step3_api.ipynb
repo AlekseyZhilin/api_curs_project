{
 "cells": [
  {
   "cell_type": "markdown",
   "id": "58f6614a",
   "metadata": {},
   "source": [
    "### Проверка того, что api работает (шаг 3)"
   ]
  },
  {
   "cell_type": "code",
   "execution_count": 1,
   "id": "70290e7f",
   "metadata": {},
   "outputs": [],
   "source": [
    "import pandas as pd\n",
    "import numpy as np\n",
    "import dill\n",
    "from urllib import request, parse"
   ]
  },
  {
   "cell_type": "code",
   "execution_count": 2,
   "id": "71c9fb01",
   "metadata": {},
   "outputs": [],
   "source": [
    "import urllib.request\n",
    "import json      \n",
    "\n",
    "def get_prediction(gender, tenure, PhoneService, TotalCharges, StreamingMovies, StreamingTV, TechSupport):\n",
    "    body = {'gender': gender,\n",
    "            'tenure': tenure,\n",
    "            'PhoneService': PhoneService,\n",
    "            'TotalCharges': TotalCharges,\n",
    "            'StreamingMovies': StreamingMovies,\n",
    "            'StreamingTV': StreamingTV,\n",
    "            'TechSupport': TechSupport}\n",
    "\n",
    "    #myurl = \"http://0.0.0.0:8180/predict\"\n",
    "    myurl = 'http://127.0.0.1:5000/predict'\n",
    "    req = urllib.request.Request(myurl)\n",
    "    req.add_header('Content-Type', 'application/json; charset=utf-8')\n",
    "    jsondata = json.dumps(body)\n",
    "    jsondataasbytes = jsondata.encode('utf-8')   # needs to be bytes\n",
    "    req.add_header('Content-Length', len(jsondataasbytes))\n",
    "    #print (jsondataasbytes)\n",
    "    response = urllib.request.urlopen(req, jsondataasbytes)\n",
    "    return json.loads(response.read())['predictions']"
   ]
  },
  {
   "cell_type": "code",
   "execution_count": 3,
   "id": "b62df650",
   "metadata": {},
   "outputs": [
    {
     "data": {
      "text/plain": [
       "0.72"
      ]
     },
     "execution_count": 3,
     "metadata": {},
     "output_type": "execute_result"
    }
   ],
   "source": [
    "get_prediction(0,1,0,24.7999,0,0,0)"
   ]
  }
 ],
 "metadata": {
  "kernelspec": {
   "display_name": "Python 3",
   "language": "python",
   "name": "python3"
  },
  "language_info": {
   "codemirror_mode": {
    "name": "ipython",
    "version": 3
   },
   "file_extension": ".py",
   "mimetype": "text/x-python",
   "name": "python",
   "nbconvert_exporter": "python",
   "pygments_lexer": "ipython3",
   "version": "3.8.8"
  }
 },
 "nbformat": 4,
 "nbformat_minor": 5
}
